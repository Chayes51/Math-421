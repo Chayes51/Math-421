{
 "cells": [
  {
   "cell_type": "code",
   "execution_count": null,
   "metadata": {},
   "outputs": [],
   "source": [
    "adult = read.csv(\"adult.csv\", header = FALSE)\n",
    "library(caret)\n",
    "names(adult) <- c(\"age\", \"workclass\", \"fnlwgt\", \"education\", \"education_num\", \"marital_status\", \"occupation\", \"relationship\", \"race\", \"sex\", \"capital_gain\", \"capital_loss\", \"hours_per_week\", \"native_country\", \"50k\")"
   ]
  },
  {
   "cell_type": "code",
   "execution_count": null,
   "metadata": {},
   "outputs": [],
   "source": [
    "### 1. Removes all the NA's and ?'s."
   ]
  },
  {
   "cell_type": "code",
   "execution_count": null,
   "metadata": {},
   "outputs": [],
   "source": [
    "levels(adult$workclass) = c(\" Private\", \" Federal-gov\", \" Local-gov\", \" Never-worked\", \" Private\", \" Self-emp-inc\", \" Self-emp-not-inc\", \" State-gov\", \" Without-pay\"  )\n",
    "levels(adult$occupation) = c(\" Craft-repair\", \" Adm-clerical\",\"Armed-Forces\", \" Craft-repair\", \" Exec-managerial\", \" Farming-fishing\", \" Handlers-cleaners\", \" Machine-op-inspct\", \" Other-service\", \" Priv-house-serv\", \" Prof-specialty\", \" Protective-serv\", \" Sales\", \" Tech-support\", \" Transport-moving\" )\n",
    "levels(adult$`native_country`) = c( \" United-States\", \" Cambodia\", \" Canada\", \" China\",\"Columbia\", \"Cuba\", \" Dominican-Republic\", \" Ecuador\", \" El-Salvador\", \" England\", \"France\", \" Germany\", \" Greece\", \" Guatemala\", \" Haiti\", \" Holand-Netherlands\", \" Honduras\", \" Hong\", \" Hungary\", \" India\", \" Iran\", \" Ireland\", \" Italy\", \" Jamaica\", \" Japan\", \" Laos\", \" Mexico\", \" Nicaragua\", \" Outlying-US(Guam-USVI-etc)\", \" Peru\", \" Philippines\", \" Poland\", \" Portugal\", \" Puerto-Rico\", \" Scotland\", \" South\", \" Taiwan\", \" Thailand\", \" Trinadad&Tobago\", \"United-States\", \" Vietnam\", \" Yugoslavia\")\n",
    "missValu2 <- function(x){\n",
    "     for(i in 1 :ncol(x)){\n",
    "    if (sum(is.na(x[,i])) > 0){\n",
    "     print(names(x)[i])\n",
    "     print(sum(is.na(x[,i])))\n",
    "     }\n",
    "     }\n",
    "      \n",
    " }\n",
    "missValu2(adult)"
   ]
  },
  {
   "cell_type": "code",
   "execution_count": null,
   "metadata": {},
   "outputs": [],
   "source": [
    "### 3. Replaces the numeric missing values with the median"
   ]
  },
  {
   "cell_type": "code",
   "execution_count": null,
   "metadata": {},
   "outputs": [],
   "source": [
    "preProcess_missingdata_model <- preProcess(titanic, method='medianImpute')\n",
    "preProcess_missingdata_model"
   ]
  },
  {
   "cell_type": "code",
   "execution_count": null,
   "metadata": {},
   "outputs": [],
   "source": [
    "### 4. Groups the categorical variables"
   ]
  },
  {
   "cell_type": "code",
   "execution_count": null,
   "metadata": {},
   "outputs": [],
   "source": [
    "levels(adult$`native_country`) = c(\"North-America\", \"Asia\", \"North-America\", \"Asia\",\"South-America\", \"Central-America\", \"Central-America\", \"Central-America\", \"South-America\", \"Europe\", \"Europe\", \"Europe\", \"Europe\", \"Central-America\", \"Central-America\", \"Europe\", \"Central-America\", \"Asia\", \"Europe\", \"Asia\", \"Asia\", \"Europe\", \"Europe\", \"Central-America\", \"Asia\", \"Asia\", \"North-America\", \"Central-America\", \"North-America\", \"South-America\", \"Asia\", \"Europe\", \"Europe\", \"North-America\", \"Europe\", \"Asia\", \"Asia\", \"Asia\", \"Central-America\", \"North-America\", \"Asia\", \"Europe\")\n",
    "levels(adult$`native_country`)"
   ]
  },
  {
   "cell_type": "code",
   "execution_count": null,
   "metadata": {},
   "outputs": [],
   "source": [
    "levels(adult$education) = c(\"high-school\", \"high-school\", \"high-school\", \"early-school\", \"early-school\", \"early-school\", \"early-school\", \"college\", \"college\", \"college\", \"grad\", \"high-school\", \"grad\", \"early-school\", \"grad\", \"college\")\n",
    "levels(adult$education)\n",
    "levels(adult$occupation) = c(\"blue-collar\", \"admin\",\"military\", \"blue-collar\", \"admin\", \"blue-collar\", \"blue-collar\", \"blue-collar\", \"other\", \"service\", \"other\", \"military\", \"admin\", \"admin\", \"blue-collar\" )\n",
    "levels(adult$occupation)"
   ]
  },
  {
   "cell_type": "code",
   "execution_count": null,
   "metadata": {},
   "outputs": [],
   "source": [
    "### 5. encodes the categorical variable with dummy variables."
   ]
  },
  {
   "cell_type": "code",
   "execution_count": null,
   "metadata": {},
   "outputs": [],
   "source": [
    "names(adult)[15] = \"target\"\n",
    "trainData <- predict(preProcess_missingdata_model, newdata = adult)\n",
    "dummies_model <- dummyVars(target ~ ., data=trainData)\n",
    "trainData_mat <- predict(dummies_model, newdata = trainData)"
   ]
  },
  {
   "cell_type": "code",
   "execution_count": null,
   "metadata": {},
   "outputs": [],
   "source": [
    "### 6. Centers and Scales the data using caret."
   ]
  },
  {
   "cell_type": "code",
   "execution_count": null,
   "metadata": {},
   "outputs": [],
   "source": [
    "preProcess_missingdata_model <- preProcess(adult, method= c(\"center\", \"scale\"))\n",
    "preProcess_missingdata_model"
   ]
  },
  {
   "cell_type": "code",
   "execution_count": null,
   "metadata": {},
   "outputs": [],
   "source": [
    "### 7. Splits that data set.  Then creates a random forest with the train data, and creates the decision tree with the test data. \n",
    "###It also reports the accurance and confusion matrix."
   ]
  },
  {
   "cell_type": "code",
   "execution_count": null,
   "metadata": {},
   "outputs": [],
   "source": [
    "splitIndex <- createDataPartition(adult$target, p = .70, list = FALSE, times = 1)\n",
    "set.seed(2018)\n",
    "train <- adult[ splitIndex,]\n",
    "test <- adult[-splitIndex,]\n",
    "library(rpart)\n",
    "mytree <- rpart(target ~ ., data = train, method = \"class\")\n",
    "library(rattle)\n",
    "fancyRpartPlot(mytree)\n",
    "pred <- predict(mytree,test, type = \"class\")\n",
    "cm=confusionMatrix(data = pred, reference = test$target, positive = NULL)\n",
    "cm"
   ]
  },
  {
   "cell_type": "code",
   "execution_count": null,
   "metadata": {},
   "outputs": [],
   "source": [
    "### 8. Builds a random forest using the ranger package.  Reports the accuracy and balanced accuracy"
   ]
  },
  {
   "cell_type": "code",
   "execution_count": null,
   "metadata": {},
   "outputs": [],
   "source": [
    "library(ranger)\n",
    "model = ranger(target ~., data = train)\n",
    "pred2 = predict(model, data = test)$predictions\n",
    "cm3 = confusionMatrix(data = pred2, reference = test$target, positive = NULL)\n",
    "cm3"
   ]
  },
  {
   "cell_type": "code",
   "execution_count": null,
   "metadata": {},
   "outputs": [],
   "source": [
    "### 9. Replaces the missing values with the mean, then creates a new model."
   ]
  },
  {
   "cell_type": "code",
   "execution_count": null,
   "metadata": {},
   "outputs": [],
   "source": [
    "adult = read.csv(\"adult.csv\", header = FALSE)\n",
    "library(caret)\n",
    "names(adult) <- c(\"age\", \"workclass\", \"fnlwgt\", \"education\", \"education_num\", \"marital_status\", \"occupation\", \"relationship\", \"race\", \"sex\", \"capital_gain\", \"capital_loss\", \"hours_per_week\", \"native_country\", \"50k\")\n",
    "levels(adult$workclass) = c(\" Private\", \" Federal-gov\", \" Local-gov\", \" Never-worked\", \" Private\", \" Self-emp-inc\", \" Self-emp-not-inc\", \" State-gov\", \" Without-pay\"  )\n",
    "fixmiss <- function(x){\n",
    "     for(i in 1 :ncol(x)){\n",
    "    if ((is.numeric(x[,i])) == TRUE ){\n",
    "      x[,i][is.na(x[,i])] = mean(x[,i], na.rm = TRUE)\n",
    "    } else{\n",
    "       levels=unique(x[,i])\n",
    "      x[,i][is.na(x[,i])]=levels[which.max(tabulate(match(x[,i], levels)))]\n",
    "    }\n",
    "     }\n",
    "      \n",
    " }\n",
    "fixmiss(adult)\n",
    "levels(adult$`native_country`) = c(\"North-America\", \"Asia\", \"North-America\", \"Asia\",\"South-America\", \"Central-America\", \"Central-America\", \"Central-America\", \"South-America\", \"Europe\", \"Europe\", \"Europe\", \"Europe\", \"Central-America\", \"Central-America\", \"Europe\", \"Central-America\", \"Asia\", \"Europe\", \"Asia\", \"Asia\", \"Europe\", \"Europe\", \"Central-America\", \"Asia\", \"Asia\", \"North-America\", \"Central-America\", \"North-America\", \"South-America\", \"Asia\", \"Europe\", \"Europe\", \"North-America\", \"Europe\", \"Asia\", \"Asia\", \"Asia\", \"Central-America\", \"North-America\", \"Asia\", \"Europe\")\n",
    "levels(adult$education) = c(\"high-school\", \"high-school\", \"high-school\", \"early-school\", \"early-school\", \"early-school\", \"early-school\", \"college\", \"college\", \"college\", \"grad\", \"high-school\", \"grad\", \"early-school\", \"grad\", \"college\")\n",
    "levels(adult$occupation) = c(\"blue-collar\", \"admin\",\"military\", \"blue-collar\", \"admin\", \"blue-collar\", \"blue-collar\", \"blue-collar\", \"other\", \"service\", \"other\", \"military\", \"admin\", \"admin\", \"blue-collar\" ) \n",
    "names(adult)[15] = \"target\"\n",
    "trainData <- predict(preProcess_missingdata_model, newdata = adult)\n",
    "dummies_model <- dummyVars(target ~ ., data=trainData)\n",
    "trainData_mat <- predict(dummies_model, newdata = trainData)\n",
    "preProcess_missingdata_model <- preProcess(adult, method= c(\"center\", \"scale\"))\n",
    "preProcess_missingdata_model\n",
    "splitIndex <- createDataPartition(adult$target, p = .70, list = FALSE, times = 1)\n",
    "set.seed(2018)\n",
    "train <- adult[ splitIndex,]\n",
    "test <- adult[-splitIndex,]\n",
    "mytree <- rpart(target ~ ., data = train, method = \"class\")\n",
    "fancyRpartPlot(mytree)\n",
    "pred4 <- predict(mytree,test, type = \"class\")\n",
    "cm4=confusionMatrix(data = pred4, reference = test$target, positive = NULL)\n",
    "cm4"
   ]
  },
  {
   "cell_type": "code",
   "execution_count": null,
   "metadata": {},
   "outputs": [],
   "source": [
    "### 10. Replaces the missing values with the knn imputatution method, then creates a new model."
   ]
  },
  {
   "cell_type": "code",
   "execution_count": null,
   "metadata": {},
   "outputs": [],
   "source": [
    "adult = read.csv(\"adult.csv\", header = FALSE)\n",
    "library(caret)\n",
    "names(adult) <- c(\"age\", \"workclass\", \"fnlwgt\", \"education\", \"education_num\", \"marital_status\", \"occupation\", \"relationship\", \"race\", \"sex\", \"capital_gain\", \"capital_loss\", \"hours_per_week\", \"native_country\", \"50k\")\n",
    "levels(adult$workclass) = c(\" Private\", \" Federal-gov\", \" Local-gov\", \" Never-worked\", \" Private\", \" Self-emp-inc\", \" Self-emp-not-inc\", \" State-gov\", \" Without-pay\"  )\n",
    "preProcess_missingdata_model <- preProcess(adult, method='knnImpute')\n",
    "preProcess_missingdata_model\n",
    "levels(adult$`native_country`) = c(\"North-America\", \"Asia\", \"North-America\", \"Asia\",\"South-America\", \"Central-America\", \"Central-America\", \"Central-America\", \"South-America\", \"Europe\", \"Europe\", \"Europe\", \"Europe\", \"Central-America\", \"Central-America\", \"Europe\", \"Central-America\", \"Asia\", \"Europe\", \"Asia\", \"Asia\", \"Europe\", \"Europe\", \"Central-America\", \"Asia\", \"Asia\", \"North-America\", \"Central-America\", \"North-America\", \"South-America\", \"Asia\", \"Europe\", \"Europe\", \"North-America\", \"Europe\", \"Asia\", \"Asia\", \"Asia\", \"Central-America\", \"North-America\", \"Asia\", \"Europe\")\n",
    "levels(adult$education) = c(\"high-school\", \"high-school\", \"high-school\", \"early-school\", \"early-school\", \"early-school\", \"early-school\", \"college\", \"college\", \"college\", \"grad\", \"high-school\", \"grad\", \"early-school\", \"grad\", \"college\")\n",
    "levels(adult$occupation) = c(\"blue-collar\", \"admin\",\"military\", \"blue-collar\", \"admin\", \"blue-collar\", \"blue-collar\", \"blue-collar\", \"other\", \"service\", \"other\", \"military\", \"admin\", \"admin\", \"blue-collar\" ) \n",
    "names(adult)[15] = \"target\"\n",
    "trainData <- predict(preProcess_missingdata_model, newdata = adult)\n",
    "dummies_model <- dummyVars(target ~ ., data=trainData)\n",
    "trainData_mat <- predict(dummies_model, newdata = trainData)\n",
    "preProcess_missingdata_model <- preProcess(adult, method= c(\"center\", \"scale\"))\n",
    "preProcess_missingdata_model\n",
    "splitIndex <- createDataPartition(adult$target, p = .70, list = FALSE, times = 1)\n",
    "set.seed(2018)\n",
    "train <- adult[ splitIndex,]\n",
    "test <- adult[-splitIndex,]\n",
    "mytree <- rpart(target ~ ., data = train, method = \"class\")\n",
    "fancyRpartPlot(mytree)\n",
    "pred3 <- predict(mytree,test, type = \"class\")\n",
    "cm5=confusionMatrix(data = pred3, reference = test$target, positive = NULL)\n",
    "cm5"
   ]
  },
  {
   "cell_type": "code",
   "execution_count": null,
   "metadata": {},
   "outputs": [],
   "source": [
    "### 11. Only encodes the non categorical data before centering and scaling, then creates a new model."
   ]
  },
  {
   "cell_type": "code",
   "execution_count": null,
   "metadata": {},
   "outputs": [],
   "source": [
    "adult = read.csv(\"adult.csv\", header = FALSE)\n",
    "library(caret)\n",
    "names(adult) <- c(\"age\", \"workclass\", \"fnlwgt\", \"education\", \"education_num\", \"marital_status\", \"occupation\", \"relationship\", \"race\", \"sex\", \"capital_gain\", \"capital_loss\", \"hours_per_week\", \"native_country\", \"50k\")\n",
    "levels(adult$workclass) = c(\" Private\", \" Federal-gov\", \" Local-gov\", \" Never-worked\", \" Private\", \" Self-emp-inc\", \" Self-emp-not-inc\", \" State-gov\", \" Without-pay\"  )\n",
    "preProcess_missingdata_model <- preProcess(adult, method='medianImpute')\n",
    "preProcess_missingdata_model\n",
    "levels(adult$`native_country`) = c(\"North-America\", \"Asia\", \"North-America\", \"Asia\",\"South-America\", \"Central-America\", \"Central-America\", \"Central-America\", \"South-America\", \"Europe\", \"Europe\", \"Europe\", \"Europe\", \"Central-America\", \"Central-America\", \"Europe\", \"Central-America\", \"Asia\", \"Europe\", \"Asia\", \"Asia\", \"Europe\", \"Europe\", \"Central-America\", \"Asia\", \"Asia\", \"North-America\", \"Central-America\", \"North-America\", \"South-America\", \"Asia\", \"Europe\", \"Europe\", \"North-America\", \"Europe\", \"Asia\", \"Asia\", \"Asia\", \"Central-America\", \"North-America\", \"Asia\", \"Europe\")\n",
    "levels(adult$education) = c(\"high-school\", \"high-school\", \"high-school\", \"early-school\", \"early-school\", \"early-school\", \"early-school\", \"college\", \"college\", \"college\", \"grad\", \"high-school\", \"grad\", \"early-school\", \"grad\", \"college\")\n",
    "levels(adult$occupation) = c(\"blue-collar\", \"admin\",\"military\", \"blue-collar\", \"admin\", \"blue-collar\", \"blue-collar\", \"blue-collar\", \"other\", \"service\", \"other\", \"military\", \"admin\", \"admin\", \"blue-collar\" )\n",
    "preProcess_missingdata_model <- preProcess(adult, method= c(\"center\", \"scale\"))\n",
    "preProcess_missingdata_model\n",
    "names(adult)[15] = \"target\"\n",
    "trainData <- predict(preProcess_missingdata_model, newdata = adult)\n",
    "dummies_model <- dummyVars(target ~ ., data=trainData)\n",
    "trainData_mat <- predict(dummies_model, newdata = trainData)\n",
    "splitIndex <- createDataPartition(adult$target, p = .70, list = FALSE, times = 1)\n",
    "set.seed(2018)\n",
    "train <- adult[ splitIndex,]\n",
    "test <- adult[-splitIndex,]\n",
    "mytree <- rpart(target ~ ., data = train, method = \"class\")\n",
    "fancyRpartPlot(mytree)\n",
    "pred7 <- predict(mytree,test, type = \"class\")\n",
    "cm6=confusionMatrix(data = pred7, reference = test$target, positive = NULL)\n",
    "cm6"
   ]
  },
  {
   "cell_type": "code",
   "execution_count": null,
   "metadata": {},
   "outputs": [],
   "source": [
    "### 12. Encodes the numeric varaible by sqrting them, then creates a new model."
   ]
  },
  {
   "cell_type": "code",
   "execution_count": null,
   "metadata": {},
   "outputs": [],
   "source": [
    "adult = read.csv(\"adult.csv\", header = FALSE)\n",
    "library(caret)\n",
    "names(adult) <- c(\"age\", \"workclass\", \"fnlwgt\", \"education\", \"education_num\", \"marital_status\", \"occupation\", \"relationship\", \"race\", \"sex\", \"capital_gain\", \"capital_loss\", \"hours_per_week\", \"native_country\", \"50k\")\n",
    "levels(adult$workclass) = c(\" Private\", \" Federal-gov\", \" Local-gov\", \" Never-worked\", \" Private\", \" Self-emp-inc\", \" Self-emp-not-inc\", \" State-gov\", \" Without-pay\"  )\n",
    "preProcess_missingdata_model <- preProcess(adult, method='medianImpute')\n",
    "preProcess_missingdata_model\n",
    "levels(adult$occupation) = c(\" Craft-repair\", \" Adm-clerical\",\"Armed-Forces\", \" Craft-repair\", \" Exec-managerial\", \" Farming-fishing\", \" Handlers-cleaners\", \" Machine-op-inspct\", \" Other-service\", \" Priv-house-serv\", \" Prof-specialty\", \" Protective-serv\", \" Sales\", \" Tech-support\", \" Transport-moving\" )\n",
    "levels(adult$`native_country`) = c( \" United-States\", \" Cambodia\", \" Canada\", \" China\",\"Columbia\", \"Cuba\", \" Dominican-Republic\", \" Ecuador\", \" El-Salvador\", \" England\", \"France\", \" Germany\", \" Greece\", \" Guatemala\", \" Haiti\", \" Holand-Netherlands\", \" Honduras\", \" Hong\", \" Hungary\", \" India\", \" Iran\", \" Ireland\", \" Italy\", \" Jamaica\", \" Japan\", \" Laos\", \" Mexico\", \" Nicaragua\", \" Outlying-US(Guam-USVI-etc)\", \" Peru\", \" Philippines\", \" Poland\", \" Portugal\", \" Puerto-Rico\", \" Scotland\", \" South\", \" Taiwan\", \" Thailand\", \" Trinadad&Tobago\", \"United-States\", \" Vietnam\", \" Yugoslavia\")\n",
    "preProcess_missingdata_model <- preProcess(adult, method= c(\"center\", \"scale\"))\n",
    "preProcess_missingdata_model\n",
    "names(adult)[15] = \"target\"\n",
    "adult$workclass = as.numeric(adult$workclass)^.5\n",
    "adult$native_country = as.numeric(adult$native_country)^.5\n",
    "adult$sex = as.numeric(adult$sex)^.5\n",
    "adult$race = as.numeric(adult$race)^.5\n",
    "adult$relationship = as.numeric(adult$relationship)^.5\n",
    "adult$education = as.numeric(adult$education)^.5\n",
    "adult$occupation = as.numeric(adult$occupation)^.5\n",
    "adult$marital_status = as.numeric(adult$marital_status)^.5\n",
    "splitIndex <- createDataPartition(adult$target, p = .70, list = FALSE, times = 1)\n",
    "set.seed(2018)\n",
    "train <- adult[ splitIndex,]\n",
    "test <- adult[-splitIndex,]\n",
    "mytree <- rpart(target ~ ., data = train, method = \"class\")\n",
    "fancyRpartPlot(mytree)\n",
    "pred5 <- predict(mytree,test, type = \"class\")\n",
    "cm7=confusionMatrix(data = pred5, reference = test$target, positive = NULL)\n",
    "cm7"
   ]
  },
  {
   "cell_type": "code",
   "execution_count": null,
   "metadata": {},
   "outputs": [],
   "source": [
    "### 13. Leaves out grouping the categorical variables, then creates a new model."
   ]
  },
  {
   "cell_type": "code",
   "execution_count": null,
   "metadata": {},
   "outputs": [],
   "source": [
    "adult = read.csv(\"adult.csv\", header = FALSE)\n",
    "library(caret)\n",
    "names(adult) <- c(\"age\", \"workclass\", \"fnlwgt\", \"education\", \"education_num\", \"marital_status\", \"occupation\", \"relationship\", \"race\", \"sex\", \"capital_gain\", \"capital_loss\", \"hours_per_week\", \"native_country\", \"50k\")\n",
    "levels(adult$workclass) = c(\" Private\", \" Federal-gov\", \" Local-gov\", \" Never-worked\", \" Private\", \" Self-emp-inc\", \" Self-emp-not-inc\", \" State-gov\", \" Without-pay\"  )\n",
    "preProcess_missingdata_model <- preProcess(adult, method='medianImpute')\n",
    "preProcess_missingdata_model\n",
    "levels(adult$occupation) = c(\" Craft-repair\", \" Adm-clerical\",\"Armed-Forces\", \" Craft-repair\", \" Exec-managerial\", \" Farming-fishing\", \" Handlers-cleaners\", \" Machine-op-inspct\", \" Other-service\", \" Priv-house-serv\", \" Prof-specialty\", \" Protective-serv\", \" Sales\", \" Tech-support\", \" Transport-moving\" )\n",
    "levels(adult$`native_country`) = c( \" United-States\", \" Cambodia\", \" Canada\", \" China\",\"Columbia\", \"Cuba\", \" Dominican-Republic\", \" Ecuador\", \" El-Salvador\", \" England\", \"France\", \" Germany\", \" Greece\", \" Guatemala\", \" Haiti\", \" Holand-Netherlands\", \" Honduras\", \" Hong\", \" Hungary\", \" India\", \" Iran\", \" Ireland\", \" Italy\", \" Jamaica\", \" Japan\", \" Laos\", \" Mexico\", \" Nicaragua\", \" Outlying-US(Guam-USVI-etc)\", \" Peru\", \" Philippines\", \" Poland\", \" Portugal\", \" Puerto-Rico\", \" Scotland\", \" South\", \" Taiwan\", \" Thailand\", \" Trinadad&Tobago\", \"United-States\", \" Vietnam\", \" Yugoslavia\")\n",
    "preProcess_missingdata_model <- preProcess(adult, method= c(\"center\", \"scale\"))\n",
    "preProcess_missingdata_model\n",
    "names(adult)[15] = \"target\"\n",
    "trainData <- predict(preProcess_missingdata_model, newdata = adult)\n",
    "dummies_model <- dummyVars(target ~ ., data=trainData)\n",
    "trainData_mat <- predict(dummies_model, newdata = trainData)\n",
    "splitIndex <- createDataPartition(adult$target, p = .70, list = FALSE, times = 1)\n",
    "set.seed(2018)\n",
    "train <- adult[ splitIndex,]\n",
    "test <- adult[-splitIndex,]\n",
    "mytree <- rpart(target ~ ., data = train, method = \"class\")\n",
    "fancyRpartPlot(mytree)\n",
    "pred6 <- predict(mytree,test, type = \"class\")\n",
    "cm8=confusionMatrix(data = pred6, reference = test$target, positive = NULL)\n",
    "cm8"
   ]
  },
  {
   "cell_type": "code",
   "execution_count": null,
   "metadata": {},
   "outputs": [],
   "source": []
  }
 ],
 "metadata": {
  "kernelspec": {
   "display_name": "R",
   "language": "R",
   "name": "ir"
  },
  "language_info": {
   "codemirror_mode": "r",
   "file_extension": ".r",
   "mimetype": "text/x-r-source",
   "name": "R",
   "pygments_lexer": "r",
   "version": "3.5.1"
  }
 },
 "nbformat": 4,
 "nbformat_minor": 2
}
