{
 "cells": [
  {
   "cell_type": "code",
   "execution_count": null,
   "metadata": {},
   "outputs": [],
   "source": [
    "library(caret)\n",
    "library(ranger)\n",
    "library(rpart)"
   ]
  },
  {
   "cell_type": "code",
   "execution_count": null,
   "metadata": {},
   "outputs": [],
   "source": [
    "### 1. Imports the data sets and cleans up some of the data"
   ]
  },
  {
   "cell_type": "code",
   "execution_count": null,
   "metadata": {},
   "outputs": [],
   "source": [
    "adult = read.csv(\"adult.csv\", header = FALSE)\n",
    "names(adult) <- c(\"age\", \"workclass\", \"fnlwgt\", \"education\", \"education_num\", \"marital_status\", \"occupation\", \"relationship\", \"race\", \"sex\", \"capital_gain\", \"capital_loss\", \"hours_per_week\", \"native_country\", \"50k\")\n",
    "levels(adult$workclass) = c(\" Private\", \" Federal-gov\", \" Local-gov\", \" Never-worked\", \" Private\", \" Self-emp-inc\", \" Self-emp-not-inc\", \" State-gov\", \" Without-pay\"  )\n",
    "levels(adult$`native_country`) = c(\"North-America\", \"Asia\", \"North-America\", \"Asia\",\"South-America\", \"Central-America\", \"Central-America\", \"Central-America\", \"South-America\", \"Europe\", \"Europe\", \"Europe\", \"Europe\", \"Central-America\", \"Central-America\", \"Europe\", \"Central-America\", \"Asia\", \"Europe\", \"Asia\", \"Asia\", \"Europe\", \"Europe\", \"Central-America\", \"Asia\", \"Asia\", \"North-America\", \"Central-America\", \"North-America\", \"South-America\", \"Asia\", \"Europe\", \"Europe\", \"North-America\", \"Europe\", \"Asia\", \"Asia\", \"Asia\", \"Central-America\", \"North-America\", \"Asia\", \"Europe\")\n",
    "levels(adult$education) = c(\"high-school\", \"high-school\", \"high-school\", \"early-school\", \"early-school\", \"early-school\", \"early-school\", \"college\", \"college\", \"college\", \"grad\", \"high-school\", \"grad\", \"early-school\", \"grad\", \"college\")\n",
    "levels(adult$occupation) = c(\"blue-collar\", \"admin\",\"military\", \"blue-collar\", \"admin\", \"blue-collar\", \"blue-collar\", \"blue-collar\", \"other\", \"service\", \"other\", \"military\", \"admin\", \"admin\", \"blue-collar\" )\n",
    "names(adult)[15] = \"target\""
   ]
  },
  {
   "cell_type": "code",
   "execution_count": null,
   "metadata": {},
   "outputs": [],
   "source": [
    "TITANIC = read.csv(\"titanic.csv\")\n",
    "TITANIC$Survived = factor(TITANIC$Survived)\n",
    "TITANIC$Pclass = factor(TITANIC$Pclass)\n",
    "TITANIC$Name = NULL\n",
    "TITANIC$Ticket = NULL\n",
    "TITANIC$PassengerId = NULL\n",
    "TITANIC$Cabin = NULL\n",
    "TITANIC$Age[is.na(TITANIC$Age)] = mean(TITANIC$Age, na.rm = TRUE)\n",
    "levels(TITANIC$Embarked) = c(\"S\",\"C\",\"Q\",\"S\")\n",
    "names(TITANIC)[1] = \"target\""
   ]
  },
  {
   "cell_type": "code",
   "execution_count": null,
   "metadata": {},
   "outputs": [],
   "source": [
    "### 2. Trains a 7 fold random forest model."
   ]
  },
  {
   "cell_type": "code",
   "execution_count": null,
   "metadata": {},
   "outputs": [],
   "source": [
    "set.seed(10)\n",
    "model1 <- train(target~.,data = TITANIC, method = \"ranger\", \n",
    "               trControl = trainControl(method =\"cv\", number = 7, verboseIter = TRUE))\n",
    "print(model1)"
   ]
  },
  {
   "cell_type": "code",
   "execution_count": null,
   "metadata": {},
   "outputs": [],
   "source": [
    "model2 <- train(target~.,data = adult, method = \"ranger\", \n",
    "               trControl = trainControl(method =\"cv\", number = 3, verboseIter = TRUE))\n",
    "print(model2)"
   ]
  },
  {
   "cell_type": "code",
   "execution_count": null,
   "metadata": {},
   "outputs": [],
   "source": [
    "### 3. Trains a decision tree with 10 folds"
   ]
  },
  {
   "cell_type": "code",
   "execution_count": null,
   "metadata": {},
   "outputs": [],
   "source": [
    "model3 <- train(target~.,data = TITANIC, method = \"rpart\", \n",
    "               trControl = trainControl(method =\"cv\", number = 10, verboseIter = TRUE))\n",
    "print(model3)"
   ]
  },
  {
   "cell_type": "code",
   "execution_count": null,
   "metadata": {},
   "outputs": [],
   "source": [
    "### 4. prints the plot of the random forest."
   ]
  },
  {
   "cell_type": "code",
   "execution_count": null,
   "metadata": {},
   "outputs": [],
   "source": [
    "plot(model1)\n",
    "plot(model2)"
   ]
  },
  {
   "cell_type": "code",
   "execution_count": null,
   "metadata": {},
   "outputs": [],
   "source": [
    "### 5. Tunes the 3 hyperparameters in the random forest"
   ]
  },
  {
   "cell_type": "code",
   "execution_count": null,
   "metadata": {},
   "outputs": [],
   "source": [
    "myGrid = expand.grid(mtry = c(1:(ncol(TITANIC)-1)), splitrule = c(\"gini\",\"extratrees\"),\n",
    "                             min.node.size = c(1:20))\n",
    "model4 <- train(target~.,data = TITANIC, method = \"ranger\", \n",
    "               trControl = trainControl(method =\"cv\", number = 10, verboseIter = TRUE),\n",
    "               tuneGrid = myGrid)\n",
    "print(model4)"
   ]
  },
  {
   "cell_type": "code",
   "execution_count": null,
   "metadata": {},
   "outputs": [],
   "source": [
    "### 6. Prints out the plot for the random forest model"
   ]
  },
  {
   "cell_type": "code",
   "execution_count": null,
   "metadata": {},
   "outputs": [],
   "source": [
    "plot(model4)"
   ]
  },
  {
   "cell_type": "code",
   "execution_count": null,
   "metadata": {},
   "outputs": [],
   "source": [
    "### 8. Creates a tuned glmnet model for the data sets, and prints out the plot of the model."
   ]
  },
  {
   "cell_type": "code",
   "execution_count": null,
   "metadata": {},
   "outputs": [],
   "source": [
    "levels(TITANIC$target) = c(\"Dead\", \"Survived\")\n",
    "myControl <- trainControl(method = \"cv\", number = 10, summaryFunction = twoClassSummary,\n",
    "classProbs = TRUE, verboseIter = TRUE)\n",
    "model5 <- train(target~.,data = TITANIC, method = \"glmnet\", trControl = myControl)\n",
    "\n",
    "myGrid2 = expand.grid(alpha = 0:1,lambda = seq(0.0001, 0.1, length = 10))\n",
    "\n",
    "\n",
    "model6 <- train(target~.,data = TITANIC, method = \"glmnet\", \n",
    "               trControl = myControl, tuneGrid = myGrid2)\n",
    "plot(model5)\n",
    "print(model5)\n",
    "plot(model6)\n",
    "print(model6)"
   ]
  },
  {
   "cell_type": "code",
   "execution_count": null,
   "metadata": {},
   "outputs": [],
   "source": [
    "levels(adult$target) = c(\"lessthanfiftyK\",\"greaterthanfiftyK\")\n",
    "model7 <- train(target~.,data = adult, method = \"glmnet\", trControl = myControl)\n",
    "\n",
    "model8 <- train(target~.,data = adult, method = \"glmnet\", \n",
    "               trControl = myControl, tuneGrid = myGrid2)\n",
    "plot(model7)\n",
    "print(model7)\n",
    "plot(model8)\n",
    "print(model8)"
   ]
  },
  {
   "cell_type": "code",
   "execution_count": null,
   "metadata": {},
   "outputs": [],
   "source": []
  },
  {
   "cell_type": "code",
   "execution_count": null,
   "metadata": {},
   "outputs": [],
   "source": []
  }
 ],
 "metadata": {
  "kernelspec": {
   "display_name": "",
   "name": ""
  },
  "language_info": {
   "codemirror_mode": "r",
   "file_extension": ".r",
   "mimetype": "text/x-r-source",
   "name": "R",
   "pygments_lexer": "r",
   "version": "3.5.1"
  }
 },
 "nbformat": 4,
 "nbformat_minor": 2
}
