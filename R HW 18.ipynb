{
 "cells": [
  {
   "cell_type": "code",
   "execution_count": null,
   "metadata": {},
   "outputs": [],
   "source": [
    "df = read.csv('hmeq.csv', header = TRUE)"
   ]
  },
  {
   "cell_type": "code",
   "execution_count": null,
   "metadata": {},
   "outputs": [],
   "source": [
    "## 1-2\n",
    "df=df[complete.cases(df), ]\n",
    "sum(is.na(df))\n",
    "df$BAD = as.factor(df$BAD)\n",
    "names(df)[1] = \"target\"\n",
    "summary(df)"
   ]
  },
  {
   "cell_type": "code",
   "execution_count": null,
   "metadata": {},
   "outputs": [],
   "source": [
    "## 3\n",
    "library(caret)\n",
    "splitIndex <- createDataPartition(df$target, p = .70, list = FALSE, times = 1)\n",
    "train <- df[ splitIndex,]\n",
    "test <- df[-splitIndex,]"
   ]
  },
  {
   "cell_type": "code",
   "execution_count": null,
   "metadata": {},
   "outputs": [],
   "source": [
    "## 4\n",
    "library(ranger)\n",
    "model = ranger(target ~., data = train)\n",
    "pred = predict(model,data = test)$predictions\n",
    "cm = confusionMatrix(pred, test$target, positive = \"1\")\n",
    "cm"
   ]
  },
  {
   "cell_type": "markdown",
   "metadata": {},
   "source": [
    "#### Accuracy = 0.9459   Balanced Accuracy = 0.69513"
   ]
  },
  {
   "cell_type": "code",
   "execution_count": null,
   "metadata": {},
   "outputs": [],
   "source": [
    "## 5\n",
    "table(df$target)\n",
    "### ratio of default vs non-default clients. Way more 0's then 1's."
   ]
  },
  {
   "cell_type": "code",
   "execution_count": null,
   "metadata": {},
   "outputs": [],
   "source": [
    "## 6\n",
    "train0 = train[train$target == '0',]\n",
    "train1 = train[train$target == '1',]\n",
    "n0 = nrow(train0)\n",
    "n1 = nrow(train1)\n",
    "train00 = train0[sample(1:n0, n1),]\n",
    "train_under = rbind(train00, train1)\n",
    "model_under = ranger(target~., data = train_under)\n",
    "pred  = predict(model_under, data = test)$predictions\n",
    "cm_under=confusionMatrix(pred, test$target, positive=\"1\")\n",
    "print(cm_under)"
   ]
  },
  {
   "cell_type": "markdown",
   "metadata": {},
   "source": [
    "#### Accuracy = 0.8082   Balance Accuracy = 0.78678"
   ]
  },
  {
   "cell_type": "code",
   "execution_count": null,
   "metadata": {},
   "outputs": [],
   "source": [
    "## 7\n",
    "train11 = train1[sample(1:n1, n0, replace = TRUE),]\n",
    "train_over = rbind(train11, train0)\n",
    "model_over = ranger(target~., data = train_over)\n",
    "pred_over  = predict(model_over, data = test)$predictions\n",
    "cm_over=confusionMatrix(pred_over, test$target, positive=\"1\")\n",
    "print(cm_over)"
   ]
  },
  {
   "cell_type": "markdown",
   "metadata": {},
   "source": [
    "#### Accuracy = 0.944   Balanced Accuracy = 0.68918"
   ]
  },
  {
   "cell_type": "code",
   "execution_count": null,
   "metadata": {},
   "outputs": [],
   "source": [
    "## 8\n",
    "Quick_bal = function(x, undersampling = TRUE) {\n",
    "  library(caret)\n",
    "  library(ranger)\n",
    "  if(undersampling == TRUE){\n",
    "    splitIndex <- createDataPartition(x$target, p = .70, list = FALSE, times = 1)\n",
    "    train <- x[splitIndex,]\n",
    "    test <- x[-splitIndex,]\n",
    "    train0 = train[train$target == '0',]\n",
    "    train1 = train[train$target == '1',]\n",
    "    n0 = nrow(train0)\n",
    "    n1 = nrow(train1)\n",
    "    train00 = train0[sample(1:n0, n1),]\n",
    "    train_under = rbind(train00, train1)\n",
    "    return(train_under)\n",
    "  }\n",
    "  if(undersampling == FALSE ){\n",
    "   splitIndex <- createDataPartition(x$target, p = .70, list = FALSE, times = 1)\n",
    "    train <- x[splitIndex,]\n",
    "    test <- x[-splitIndex,]\n",
    "    train0 = train[train$target == '0',]\n",
    "    train1 = train[train$target == '1',]\n",
    "    n0 = nrow(train0)\n",
    "    n1 = nrow(train1)\n",
    "    train11 = train1[sample(1:n1, n0, replace = TRUE),]\n",
    "    train_over = rbind(train11, train0)\n",
    "    return(train_over)\n",
    "  }\n",
    "}"
   ]
  },
  {
   "cell_type": "code",
   "execution_count": null,
   "metadata": {},
   "outputs": [],
   "source": [
    "## 9\n",
    "Quick_Model_Bal = function(x){\n",
    "  library(caret)\n",
    "  library(ranger)\n",
    "  \n",
    "    splitIndex <- createDataPartition(x$target, p = .70, list = FALSE, times = 1)\n",
    "    train <- x[splitIndex,]\n",
    "    test <- x[-splitIndex,]\n",
    "    train0 = train[train$target == '0',]\n",
    "    train1 = train[train$target == '1',]\n",
    "    n0 = nrow(train0)\n",
    "    n1 = nrow(train1)\n",
    "    train00 = train0[sample(1:n0, n1),]\n",
    "    train_under = rbind(train00, train1)\n",
    "    model_under = ranger(target~., data = train_under)\n",
    "    pred  = predict(model_under, data = test)$predictions\n",
    "    cm_under=confusionMatrix(pred, test$target, positive=\"1\")\n",
    "    print(\"Undersampling Model\")\n",
    "    print(cm_under)\n",
    "    \n",
    "    train11 = train1[sample(1:n1, n0, replace = TRUE),]\n",
    "    train_over = rbind(train11, train0)\n",
    "    model_over = ranger(target~., data = train_over)\n",
    "    pred_over  = predict(model_over, data = test)$predictions\n",
    "    cm_over=confusionMatrix(pred_over, test$target, positive=\"1\")\n",
    "    print(\"Oversampling Model\")\n",
    "    print(cm_over)\n",
    "}"
   ]
  },
  {
   "cell_type": "code",
   "execution_count": null,
   "metadata": {},
   "outputs": [],
   "source": [
    "Quick_Model_Bal(df)"
   ]
  }
 ],
 "metadata": {
  "kernelspec": {
   "display_name": "R",
   "language": "R",
   "name": "ir"
  },
  "language_info": {
   "codemirror_mode": "r",
   "file_extension": ".r",
   "mimetype": "text/x-r-source",
   "name": "R",
   "pygments_lexer": "r",
   "version": "3.5.1"
  }
 },
 "nbformat": 4,
 "nbformat_minor": 2
}
