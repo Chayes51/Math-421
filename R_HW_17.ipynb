{
 "cells": [
  {
   "cell_type": "code",
   "execution_count": null,
   "metadata": {},
   "outputs": [],
   "source": [
    "car = read.csv(\"c2015.csv\", header = TRUE)"
   ]
  },
  {
   "cell_type": "code",
   "execution_count": null,
   "metadata": {},
   "outputs": [],
   "source": [
    "library(caret)\n",
    "library(ranger)\n",
    "library(rpart)\n",
    "library(ggplot2)"
   ]
  },
  {
   "cell_type": "code",
   "execution_count": null,
   "metadata": {},
   "outputs": [],
   "source": [
    "### Cleans and simlifies the data. Eliminates a fair amount of data to get rid of no useful variables and missing data.\n",
    "car$VEH_NO = NULL\n",
    "car$YEAR = NULL\n",
    "car$LATITUDE = NULL\n",
    "car$LONGITUD = NULL\n",
    "car$ST_CASE = NULL\n",
    "names(car)[11] = \"target\"\n",
    "car$AGE = as.numeric(car$AGE)\n",
    "car$TRAV_SP = as.integer(car$TRAV_SP)\n",
    "car = car[car$TRAV_SP < 133,]\n",
    "car = car[car$HOUR < 25, ]\n",
    "car = car[car$AGE < 104, ]\n",
    "car$MINUTE[is.na(car$MINUTE)] = mean(car$MINUTE, na.rm = TRUE)\n",
    "car$HOUR[is.na(car$HOUR)] = mean(car$HOUR, na.rm = TRUE)\n",
    "car$COUNTY = factor(car$COUNTY)\n",
    "levels(car$SEX) = c(\"Female\", \"Male\", \"Female\", \"Male\")\n",
    "levels(car$STATE) = c(\"Southeast\", \"Northwest\", \"Southwest\", \"Southeast\", \"Southwest\", \"Midwest\", \"Northeast\", \"MidAtlantic\", \"MidAtlantic\", \"Southeast\", \"Southeast\", \"Southwest\", \"Northwest\", \"Midwest\", \"Midwest\", \"Midwest\", \"Midwest\", \"MidAtlantic\", \"Southeast\", \"Northeast\", \"MidAtlantic\", \"Northeast\", \"Midwest\", \"Midwest\", \"Southeast\", \"Midwest\", \"Northwest\",\"Midwest\",\"Southwest\", \"Northeast\", \"Northeast\", \"Southeast\", \"Northeast\", \"MidAtlantic\",\"Midwest\", \"Midwest\", \"Southwest\", \"Northwest\",\"MidAtlantic\", \"Northeast\", \"Southeast\",\"Midwest\", \"MidAtlantic\",\"Southwest\",\"Southwest\", \"Northeast\", \"MidAtlantic\", \"Northwest\", \"MidAtlantic\", \"Midwest\", \"Northwest\")\n",
    "levels(car$MONTH) = c(\"Spring\", \"Summer\", \"Fall\", \"Winter\", \"Winter\", \"Summer\", \"Spring\", \"Winter\", \"Spring\", \"Fall\", \"Fall\", \"Summer\")\n",
    "levels(car$MOD_YEAR) =c(\"Unknown\", \"1930\", \"1930\", \"1930\", \"1930\", \"1930\", \"1930\", \"1940\", \"1940\", \"1940\", \"1940\", \"1940\", \"1940\", \"1950\", \"1950\", \"1950\", \"1950\", \"1950\", \"1950\", \"1950\", \"1960\", \"1960\", \"1960\", \"1960\", \"1960\", \"1960\", \"1960\", \"1960\", \"1960\", \"1970\", \"1970\", \"1970\", \"1970\", \"1970\", \"1970\", \"1970\", \"1970\", \"1970\", \"1970\", \"1980\", \"1980\", \"1980\", \"1980\", \"1980\", \"1980\", \"1980\", \"1980\", \"1980\", \"1980\", \"1990\", \"1990\", \"1990\", \"1990\", \"1990\", \"1990\", \"1990\", \"1990\", \"1990\", \"1990\", \"2000\", \"2000\", \"2000\", \"2000\", \"2000\", \"2000\", \"2000\", \"2000\", \"2000\", \"2000\", \"2010\", \"2010\", \"2010\", \"2010\", \"2010\", \"2010\", \"2010\", \"Unknown\", \"Unknown\") \n",
    "levels(car$target) = c(\"Fatal\", \"Fatal\", \"Live\", \"Live\", \"Live\", \"Live\", \"Live\", \"Live\")\n",
    "levels(car$DEFORMED) = c(\"Unknown\", \"Disabling Damage\", \"Functional Damage\", \"Minor Damage\", \"No Damage\", \"Not Reported\", \"Unknown\")\n",
    "levels(car$MAN_COLL)  = c(\"Other\", \"Angle\", \"Front-to-Front\", \"Front-to-Rear\", \n",
    "\"Not a Collision with Motor Vehicle In-Transport\", \"Not Reported\", \"Other\", \"Rear-to-Rear\", \"Rear-to-Side\", \n",
    "\"Sideswipe\", \"Sideswipe\", \"Other\")\n",
    "levels(car$OWNER) = c(\"Unknown\", \"Driver (in this crash) Not Registered Owner (Other Private Owner Listed)\",\n",
    "\"Driver (in this crash) was  Registered Owner\", \"Driverless/Motor Vehicle Parked/Stopped Off Roadway\",                 \"Not Applicable, Vehicle Not Registered\", \"Unknown\",                                                               \"Vehicle Registered as Business/Company/Government Vehicle\",\"Vehicle Registered as Rental Vehicle\",                    \"Vehicle was Stolen (reported by police)\" )\n",
    "quick_clean(car,1)\n",
    "summary(car)"
   ]
  },
  {
   "cell_type": "code",
   "execution_count": null,
   "metadata": {},
   "outputs": [],
   "source": [
    "### Visuals comparing the target variable to all numeric variables \n",
    "ggplot(data=car)+geom_density(mapping = aes(x=car$target,color=car$STATE))+labs(x=car$target,color=car$STATE)\n",
    "ggplot(data=car)+geom_density(mapping = aes(x=car$target,color=car$MONTH))+labs(x=car$target,color=car$MONTH)\n",
    "ggplot(data=car)+geom_density(mapping = aes(x=car$target,color=car$SEX))+labs(x=car$target,color=car$SEX)\n",
    "ggplot(data=car)+geom_density(mapping = aes(x=car$target,color=car$PER_TYP))+labs(x=car$target,color=car$PER_TYP)\n",
    "ggplot(data=car)+geom_density(mapping = aes(x=car$target,color=car$SEAT_POS))+labs(x=car$target,color=car$SEAT_POS)\n",
    "ggplot(data=car)+geom_density(mapping = aes(x=car$target,color=car$DRINKING))+labs(x=car$target,color=car$DRINKING)\n",
    "ggplot(data=car)+geom_density(mapping = aes(x=car$target,color=car$MAN_COLL))+labs(x=car$target,color=car$MAN_COLL)\n",
    "ggplot(data=car)+geom_density(mapping = aes(x=car$target,color=car$OWNER))+labs(x=car$target,color=car$OWNER)\n",
    "ggplot(data=car)+geom_density(mapping = aes(x=car$target,color=car$MOD_YEAR))+labs(x=car$target,color=car$MOD_YEAR)\n",
    "ggplot(data=car)+geom_density(mapping = aes(x=car$target,color=car$DEFORMED))+labs(x=car$target,color=car$DEFORMED)\n",
    "ggplot(data=car)+geom_density(mapping = aes(x=car$target,color=car$DAY_WEEK))+labs(x=car$target,color=car$DAY_WEEK)\n",
    "ggplot(data=car)+geom_density(mapping = aes(x=car$target,color=car$ROUTE))+labs(x=car$target,color=car$ROUTE)\n",
    "ggplot(data=car)+geom_density(mapping = aes(x=car$target,color=car$LGT_COND))+labs(x=car$target,color=car$LGT_COND)\n",
    "ggplot(data=car)+geom_density(mapping = aes(x=car$target,color=car$WEATHER))+labs(x=car$target,color=car$WEATHER)"
   ]
  },
  {
   "cell_type": "code",
   "execution_count": null,
   "metadata": {},
   "outputs": [],
   "source": [
    "cars = car[sample(1:nrow(car), 1000),]\n",
    "set.seed(12)\n",
    "quick_model(cars)"
   ]
  },
  {
   "cell_type": "markdown",
   "metadata": {},
   "source": [
    "### Accuracy = .79495 mtry 193, gini, nodes 1."
   ]
  },
  {
   "cell_type": "code",
   "execution_count": null,
   "metadata": {},
   "outputs": [],
   "source": [
    "myGrid = expand.grid(mtry = c(10:(ncol(cars)-1)), splitrule = c(\"gini\",\"extratrees\"),\n",
    "                     min.node.size = c(1:7))\n",
    "\n",
    "model <- train(target~.,data = cars, method = \"ranger\", \n",
    "               trControl = trainControl(method =\"cv\", number = 3, verboseIter = TRUE),\n",
    "               tuneGrid = myGrid)\n",
    "plot(model)\n",
    "print(model)"
   ]
  },
  {
   "cell_type": "markdown",
   "metadata": {},
   "source": [
    "### accuracy = .792 mrty = 19, slitrule = gini, node.size = 3"
   ]
  },
  {
   "cell_type": "code",
   "execution_count": null,
   "metadata": {},
   "outputs": [],
   "source": [
    "splitIndex <- createDataPartition(adult$target, p = .70, list = FALSE, times = 1)\n",
    "train <- cars[ splitIndex,]\n",
    "test <- cars[-splitIndex,]\n",
    "mytree <- rpart(target ~ ., data = train, method = \"class\")\n",
    "pred1 <- predict(mytree,test, type = \"class\")\n",
    "cm8=confusionMatrix(data = pred1, reference = test$target, positive = NULL)\n",
    "cm8"
   ]
  },
  {
   "cell_type": "markdown",
   "metadata": {},
   "source": [
    "### balance accuracy = .7241"
   ]
  },
  {
   "cell_type": "code",
   "execution_count": null,
   "metadata": {},
   "outputs": [],
   "source": [
    "myControl <- trainControl(method = \"cv\", number = 10, summaryFunction = twoClassSummary,\n",
    "classProbs = TRUE, verboseIter = TRUE)\n",
    "myGrid2 = expand.grid(alpha = 0:1,lambda = seq(0.0001, 0.1, length = 10))\n",
    "model2 <- train(target~.,data = cars, method = \"glmnet\", \n",
    "               trControl = myControl, tuneGrid = myGrid2)\n",
    "print(model2)\n",
    "plot(model2)"
   ]
  },
  {
   "cell_type": "markdown",
   "metadata": {},
   "source": [
    "###  ROC = .8666 alpha = 1 lamda = .0223"
   ]
  },
  {
   "cell_type": "code",
   "execution_count": null,
   "metadata": {},
   "outputs": [],
   "source": []
  }
 ],
 "metadata": {
  "kernelspec": {
   "display_name": "R",
   "language": "R",
   "name": "ir"
  },
  "language_info": {
   "codemirror_mode": "r",
   "file_extension": ".r",
   "mimetype": "text/x-r-source",
   "name": "R",
   "pygments_lexer": "r",
   "version": "3.5.1"
  }
 },
 "nbformat": 4,
 "nbformat_minor": 2
}
