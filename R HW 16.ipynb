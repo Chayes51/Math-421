{
 "cells": [
  {
   "cell_type": "code",
   "execution_count": null,
   "metadata": {},
   "outputs": [],
   "source": [
    "#1 \n",
    "nsums = c()\n",
    "\n",
    "chi = function(k){\n",
    "  for (i in 1:1000){\n",
    "    n1 = rnorm(k, mean = 0, sd =1)\n",
    "    nsum = sum(n1^2)\n",
    "    nsums = c(nsums, nsum)\n",
    "  }\n",
    "  hist(nsums)\n",
    "}\n",
    "chi(1)\n",
    "chi(2)\n",
    "chi(5)\n",
    "chi(6)"
   ]
  },
  {
   "cell_type": "code",
   "execution_count": null,
   "metadata": {},
   "outputs": [],
   "source": [
    "#2\n",
    "n = 1000\n",
    "s = sample(1:6,n, replace = TRUE)\n",
    "s2 = sample(1:6,n, replace = TRUE)\n",
    "s3 = sample(1:6,n, replace = TRUE)\n",
    "sum(s>(s2+s3))/n"
   ]
  },
  {
   "cell_type": "code",
   "execution_count": null,
   "metadata": {},
   "outputs": [],
   "source": [
    "#3\n",
    "n = 1000\n",
    "U1= runif(n, min = 0, max = 1)\n",
    "U2= runif(n, min = 0, max = 1)\n",
    "U3= runif(n, min = 0, max = 1)\n",
    "sum(U1 > .75 |U2 > .75 | U3 > .75 )/n"
   ]
  },
  {
   "cell_type": "code",
   "execution_count": null,
   "metadata": {},
   "outputs": [],
   "source": [
    "#4\n",
    "n = 1000\n",
    "x= runif(n, min = -2, max = 2)\n",
    "y= runif(n, min = -3, max = 3)\n",
    "24*sum(((x^2)/4 + (y^2)/9) < 1)/n"
   ]
  },
  {
   "cell_type": "code",
   "execution_count": null,
   "metadata": {},
   "outputs": [],
   "source": [
    "#5\n",
    "n = 1000\n",
    "x = runif(n,0,1)\n",
    "y = runif(n,0, 1 + sin(1))\n",
    "f = 1 + x*sin(x)\n",
    "(sum(y < f)/n)*(1+sin(1))"
   ]
  },
  {
   "cell_type": "code",
   "execution_count": null,
   "metadata": {},
   "outputs": [],
   "source": [
    "#6\n",
    "x = runif(1000, -1, 1)\n",
    "e = rnorm(1000, 0, 1)\n",
    "y = 2*x + 3 + e\n",
    "lm(y~x)"
   ]
  },
  {
   "cell_type": "code",
   "execution_count": null,
   "metadata": {},
   "outputs": [],
   "source": [
    "#7\n",
    "s = c(.1,1,2,5,10,20,50,100)\n",
    "for (i in s)\n",
    "{\n",
    "x = runif(1000, -1, 1)\n",
    "e = rnorm(1000, 0, i)\n",
    "y = 2*x + 3 + e\n",
    "print(lm(y~x))\n",
    "}\n",
    "\n",
    "# As the value of the standard deviation increases the acuracy of the e decreases. It is realitively accurate for the lower numbers though."
   ]
  }
 ],
 "metadata": {
  "kernelspec": {
   "display_name": "R",
   "language": "R",
   "name": "ir"
  },
  "language_info": {
   "codemirror_mode": "r",
   "file_extension": ".r",
   "mimetype": "text/x-r-source",
   "name": "R",
   "pygments_lexer": "r",
   "version": "3.5.1"
  }
 },
 "nbformat": 4,
 "nbformat_minor": 2
}
