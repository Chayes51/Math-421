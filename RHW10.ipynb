{
 "cells": [
  {
   "cell_type": "code",
   "execution_count": null,
   "metadata": {},
   "outputs": [],
   "source": [
    "### 1-3. brings in the data and names each of the columns."
   ]
  },
  {
   "cell_type": "code",
   "execution_count": null,
   "metadata": {},
   "outputs": [],
   "source": [
    "adult = read.csv(\"adult.csv\", header = FALSE)"
   ]
  },
  {
   "cell_type": "code",
   "execution_count": null,
   "metadata": {},
   "outputs": [],
   "source": [
    "names(adult) <- c(\"age\", \"workclass\", \"fnlwgt\", \"education\", \"education-num\", \"marital-status\", \"occupation\", \"relationship\", \"race\", \"sex\", \"capital-gain\", \"capital-loss\", \"hours-per-week\", \"native-country\", \"50k\")"
   ]
  },
  {
   "cell_type": "code",
   "execution_count": null,
   "metadata": {},
   "outputs": [],
   "source": [
    "### 4. Fixes the names of the categorical variable removing all ?'s and replaces all NA"
   ]
  },
  {
   "cell_type": "code",
   "execution_count": null,
   "metadata": {},
   "outputs": [],
   "source": [
    "levels(adult$workclass) = c(\" Private\", \" Federal-gov\", \" Local-gov\", \" Never-worked\", \" Private\", \" Self-emp-inc\", \" Self-emp-not-inc\", \" State-gov\", \" Without-pay\"  )\n",
    "levels(adult$occupation) = c(\" Craft-repair\", \" Adm-clerical\",\"Armed-Forces\", \" Craft-repair\", \" Exec-managerial\", \" Farming-fishing\", \" Handlers-cleaners\", \" Machine-op-inspct\", \" Other-service\", \" Priv-house-serv\", \" Prof-specialty\", \" Protective-serv\", \" Sales\", \" Tech-support\", \" Transport-moving\" )\n",
    "levels(adult$`native-country`) = c( \" United-States\", \" Cambodia\", \" Canada\", \" China\",\"Columbia\", \"Cuba\", \" Dominican-Republic\", \" Ecuador\", \" El-Salvador\", \" England\", \"France\", \" Germany\", \" Greece\", \" Guatemala\", \" Haiti\", \" Holand-Netherlands\", \" Honduras\", \" Hong\", \" Hungary\", \" India\", \" Iran\", \" Ireland\", \" Italy\", \" Jamaica\", \" Japan\", \" Laos\", \" Mexico\", \" Nicaragua\", \" Outlying-US(Guam-USVI-etc)\", \" Peru\", \" Philippines\", \" Poland\", \" Portugal\", \" Puerto-Rico\", \" Scotland\", \" South\", \" Taiwan\", \" Thailand\", \" Trinadad&Tobago\", \"United-States\", \" Vietnam\", \" Yugoslavia\")\n",
    "missValu2 <- function(x){\n",
    "     for(i in 1 :ncol(x)){\n",
    "    if (sum(is.na(x[,i])) > 0){\n",
    "     print(names(x)[i])\n",
    "     print(sum(is.na(x[,i])))\n",
    "     }\n",
    "     }\n",
    "      \n",
    " }\n",
    "missValu2(adult)"
   ]
  },
  {
   "cell_type": "code",
   "execution_count": null,
   "metadata": {},
   "outputs": [],
   "source": [
    "### 5. creates bar charts for the data"
   ]
  },
  {
   "cell_type": "code",
   "execution_count": null,
   "metadata": {},
   "outputs": [],
   "source": [
    "library(ggplot2)\n",
    "bar2=function(x,i,j){\n",
    "    if(is.numeric(x[,i]) | is.numeric(x[,j])){\n",
    "      print(\"One or more of the columns are not categorical\")\n",
    "    }else {\n",
    "      print(ggplot(data=x)+geom_bar(mapping=aes(x=x[,i], fill=x[,j]),position = \"dodge\")+labs(x=names(x)[i],fill=names(x)[j]))\n",
    "    }\n",
    "  }\n",
    "\n",
    "bar2(adult,2,4)\n",
    "bar2(adult,6,7) \n",
    "levels(adult$education)"
   ]
  },
  {
   "cell_type": "code",
   "execution_count": null,
   "metadata": {},
   "outputs": [],
   "source": [
    "### 6. Creates density chart to help better understand the data."
   ]
  },
  {
   "cell_type": "code",
   "execution_count": null,
   "metadata": {},
   "outputs": [],
   "source": [
    "ggplot(adult) + geom_density(mapping = aes(x = age, color = sex))\n",
    "ggplot(adult) + geom_density(mapping = aes(x = `education-num`, color = fnlwgt))"
   ]
  },
  {
   "cell_type": "code",
   "execution_count": null,
   "metadata": {},
   "outputs": [],
   "source": [
    "### 7.  creates the target variable and splits the data into train and test"
   ]
  },
  {
   "cell_type": "code",
   "execution_count": null,
   "metadata": {},
   "outputs": [],
   "source": [
    "names(adult)[15] = \"target\"\n",
    "library(caret)\n",
    "splitIndex <- createDataPartition(adult$target, p = .60, list = FALSE, times = 1)\n",
    "train <- adult[ splitIndex,]\n",
    "test <- adult[-splitIndex,]"
   ]
  },
  {
   "cell_type": "code",
   "execution_count": null,
   "metadata": {},
   "outputs": [],
   "source": [
    "### 8. Builds a decision tree model on the training data and test the model on the testing data"
   ]
  },
  {
   "cell_type": "code",
   "execution_count": null,
   "metadata": {},
   "outputs": [],
   "source": [
    "library(rpart)\n",
    "mytree <- rpart(target ~ ., data = train, method = \"class\")"
   ]
  },
  {
   "cell_type": "code",
   "execution_count": null,
   "metadata": {},
   "outputs": [],
   "source": [
    "### 9. prints out the tree"
   ]
  },
  {
   "cell_type": "code",
   "execution_count": null,
   "metadata": {},
   "outputs": [],
   "source": [
    "library(rattle)\n",
    "fancyRpartPlot(mytree)"
   ]
  },
  {
   "cell_type": "code",
   "execution_count": null,
   "metadata": {},
   "outputs": [],
   "source": [
    "### 9. reports the misclassifaction rate and the cunfusion matrix table"
   ]
  },
  {
   "cell_type": "code",
   "execution_count": null,
   "metadata": {},
   "outputs": [],
   "source": [
    "pred <- predict(mytree,test, type = \"class\")\n",
    "cm=confusionMatrix(data = pred, reference = test$target, positive = NULL)\n",
    "cm$table\n",
    "cm$overall\n",
    "cm$byClass"
   ]
  },
  {
   "cell_type": "code",
   "execution_count": null,
   "metadata": {},
   "outputs": [],
   "source": [
    "### 10. Creates a function to automate creating a decision tree and reports the outcome. "
   ]
  },
  {
   "cell_type": "code",
   "execution_count": null,
   "metadata": {},
   "outputs": [],
   "source": [
    "adultmodel <- function(x,y){\n",
    "  splitIndex <- createDataPartition(adult$target, p = x, list = FALSE, times = 1)\n",
    "  train <- adult[ splitIndex,]\n",
    "  test <- adult[-splitIndex,]\n",
    "mytree <- rpart(target ~ ., data = train, method = \"class\")\n",
    "print(fancyRpartPlot(mytree))\n",
    "pred <- predict(mytree,test, type = \"class\")\n",
    "cm=confusionMatrix(data = pred, reference = test$target, positive = NULL)\n",
    "}\n",
    "lapply(.7,adultmodel)\n",
    "cm$table"
   ]
  },
  {
   "cell_type": "code",
   "execution_count": null,
   "metadata": {},
   "outputs": [],
   "source": []
  },
  {
   "cell_type": "code",
   "execution_count": null,
   "metadata": {},
   "outputs": [],
   "source": []
  }
 ],
 "metadata": {
  "kernelspec": {
   "display_name": "R",
   "language": "R",
   "name": "ir"
  },
  "language_info": {
   "codemirror_mode": "r",
   "file_extension": ".r",
   "mimetype": "text/x-r-source",
   "name": "R",
   "pygments_lexer": "r",
   "version": "3.5.1"
  }
 },
 "nbformat": 4,
 "nbformat_minor": 2
}
