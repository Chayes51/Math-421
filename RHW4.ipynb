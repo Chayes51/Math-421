{
 "cells": [
  {
   "cell_type": "code",
   "execution_count": null,
   "metadata": {},
   "outputs": [],
   "source": [
    "### 1. create a mathmatical function"
   ]
  },
  {
   "cell_type": "code",
   "execution_count": null,
   "metadata": {},
   "outputs": [],
   "source": [
    "assn4 = function(x)\n",
    " {\n",
    "     return(x^2 + 3*x + 1)\n",
    " }\n",
    "assn4(12)"
   ]
  },
  {
   "cell_type": "code",
   "execution_count": null,
   "metadata": {},
   "outputs": [],
   "source": [
    "### 2. FUnction that takes the prodcut of a llst"
   ]
  },
  {
   "cell_type": "code",
   "execution_count": null,
   "metadata": {},
   "outputs": [],
   "source": [
    "x = c(3,5,7,13,15,17)\n",
    "prd = function(x)\n",
    " {\n",
    "     return(prod(x))\n",
    "}\n",
    "prd(x)"
   ]
  },
  {
   "cell_type": "code",
   "execution_count": null,
   "metadata": {},
   "outputs": [],
   "source": [
    "### 3. Changes the NA to a given number"
   ]
  },
  {
   "cell_type": "code",
   "execution_count": null,
   "metadata": {},
   "outputs": [],
   "source": [
    "v = c(1,2,3,NA ,4,NA ,6)\n",
    "n = 4 \n",
    "nv = function(v)\n",
    " {\n",
    "     v[is.na(v)] = n\n",
    "     return(v)\n",
    " }\n",
    "\n",
    "nv(v)"
   ]
  },
  {
   "cell_type": "code",
   "execution_count": null,
   "metadata": {},
   "outputs": [],
   "source": [
    "### 4. Replaces NA with the mean of a list"
   ]
  },
  {
   "cell_type": "code",
   "execution_count": null,
   "metadata": {},
   "outputs": [],
   "source": [
    "AVGv = function(v)\n",
    " {\n",
    "     v[is.na(v)] = mean(v, na.rm =TRUE)\n",
    "     return(v)\n",
    " }\n",
    "AVGv(v)"
   ]
  },
  {
   "cell_type": "code",
   "execution_count": null,
   "metadata": {},
   "outputs": [],
   "source": [
    "### 5. same function used on Titanic data"
   ]
  },
  {
   "cell_type": "code",
   "execution_count": null,
   "metadata": {},
   "outputs": [],
   "source": [
    "TITANIC = read.csv(\"titanic.csv\")\n",
    "AVGx = function(x)\n",
    " {\n",
    "     x[is.na(x)] = mean(x, na.rm =TRUE)\n",
    "     return(x)\n",
    " }\n",
    "AVGx(TITANIC$Age)"
   ]
  },
  {
   "cell_type": "code",
   "execution_count": null,
   "metadata": {},
   "outputs": [],
   "source": [
    "### 6. Creates a simple bar chart"
   ]
  },
  {
   "cell_type": "code",
   "execution_count": null,
   "metadata": {},
   "outputs": [],
   "source": [
    " bar = function(x)\n",
    "{\n",
    "  library(ggplot2)\n",
    "  ggplot(x) + geom_bar(mapping = aes(x = z))\n",
    " }\n",
    "x = TITANIC\n",
    "z = TITANIC$Sex\n",
    "bar(x)"
   ]
  },
  {
   "cell_type": "code",
   "execution_count": null,
   "metadata": {},
   "outputs": [],
   "source": [
    "###7. Creates a simple two varibale bar chart"
   ]
  },
  {
   "cell_type": "code",
   "execution_count": null,
   "metadata": {},
   "outputs": [],
   "source": [
    "TITANIC$Survived = factor(TITANIC$Survived)\n",
    "bar = function(x)\n",
    " {\n",
    "     library(ggplot2)\n",
    "     ggplot(x) + geom_bar(mapping = aes(x = z, fill = w), position = 'dodge')\n",
    " }\n",
    " w = TITANIC$Survived\n",
    "bar(x)"
   ]
  },
  {
   "cell_type": "code",
   "execution_count": null,
   "metadata": {},
   "outputs": [],
   "source": []
  },
  {
   "cell_type": "code",
   "execution_count": null,
   "metadata": {},
   "outputs": [],
   "source": []
  },
  {
   "cell_type": "code",
   "execution_count": null,
   "metadata": {},
   "outputs": [],
   "source": []
  },
  {
   "cell_type": "code",
   "execution_count": null,
   "metadata": {},
   "outputs": [],
   "source": []
  }
 ],
 "metadata": {
  "kernelspec": {
   "display_name": "R",
   "language": "R",
   "name": "ir"
  },
  "language_info": {
   "codemirror_mode": "r",
   "file_extension": ".r",
   "mimetype": "text/x-r-source",
   "name": "R",
   "pygments_lexer": "r",
   "version": "3.5.1"
  }
 },
 "nbformat": 4,
 "nbformat_minor": 2
}
