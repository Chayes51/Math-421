{
 "cells": [
  {
   "cell_type": "code",
   "execution_count": null,
   "metadata": {},
   "outputs": [],
   "source": [
    "library(caret)\n",
    "library(ranger)\n",
    "library(rpart)\n",
    "library(ggplot2)"
   ]
  },
  {
   "cell_type": "code",
   "execution_count": null,
   "metadata": {},
   "outputs": [],
   "source": [
    "### 1. Creates a function to clean data by replace NA with the mean and missing catigorical with the most common variable in that column."
   ]
  },
  {
   "cell_type": "code",
   "execution_count": null,
   "metadata": {},
   "outputs": [],
   "source": [
    " quick_clean <- function(x,i){\n",
    "     if(i == 0) {\n",
    "       x = x(complete.cases(x),)\n",
    "       return(x)}\n",
    "   if (i == 1) {\n",
    "     checkcol = function(y){\n",
    "       if(is.numeric(y) == TRUE){\n",
    "         y[is.na(y)]= mean(y, na.rm = TRUE)\n",
    "       }\n",
    "       else{\n",
    "       levels=unique(y)\n",
    "      y[is.na(y)]=levels[which.max(tabulate(match(y , x=levels)))]\n",
    "       }\n",
    "       return(y)\n",
    "     }\n",
    "     x = lapply(x, checkcol)\n",
    "     return(data.frame(x))\n",
    "   }\n",
    " }\n",
    "quick_clean(TITANIC,1)"
   ]
  },
  {
   "cell_type": "code",
   "execution_count": null,
   "metadata": {},
   "outputs": [],
   "source": [
    "### 2. creates a function that creates all scater, density, and bar charts for a data set."
   ]
  },
  {
   "cell_type": "code",
   "execution_count": null,
   "metadata": {},
   "outputs": [],
   "source": [
    "quick.visual <- function(df,z){\n",
    "library(ggplot2)\n",
    "  if(z == 1){\n",
    "  scater<- function(df){\n",
    "    for (i in 1:ncol(df)){\n",
    "      if (is.numeric(df[,i])){\n",
    "        for(j in 1:ncol(df)){ \n",
    "          if(!is.numeric(df[,i]) | !is.numeric(df[,j])){\n",
    "            print(\"One or more of the columns are not numeric\")\n",
    "    }     else {\n",
    "            print(ggplot(df)+geom_point(mapping=aes(x=df[,i], y=df[,j]))+labs(x=names(df)[i],y=names(df)[j]))\n",
    "    }\n",
    "        }}}}\n",
    "  print(scater(df))\n",
    "}\n",
    "if(z== 2){\n",
    "  df_factors <- df[, sapply(df, is.factor)]\n",
    "    cat5 <- function(y){\n",
    "      l <- (length(unique(y)) < 5)\n",
    "      return(l)\n",
    "    }\n",
    "    df_5 <- df_factors[,sapply(df_factors, cat5)]\n",
    "  Den <- function(df_5){\n",
    "    for (i in 1:ncol(df_5)){\n",
    "      if (is.numeric(df_5[,i])){\n",
    "        for(j in 1:ncol(df_5)){  \n",
    "          if(!is.numeric(df_5[,i])){\n",
    "             print(\"The input variable is not numeric\")\n",
    "    }     else if(is.numeric(df_5[,j])){\n",
    "             print(\"The partitioning variable is not categorical\")\n",
    "    }     else{\n",
    "           print(ggplot(df_5)+geom_density(mapping = aes(x=df_5[,1],color=df_5[,j]))+labs(x=names(df_5)[i],color=names(df_5)[j]))\n",
    "    }\n",
    "        }}}}\n",
    "  print(Den(df))\n",
    "}\n",
    "if (z == 3){\n",
    "  everybar<- function(df_5){\n",
    "    for (i in 1:ncol(df_5)){\n",
    "      if (!is.numeric(df_5[,i])){\n",
    "        for(j in 1:ncol(df_5)){\n",
    "          if (!is.numeric(df_5[,j]) & names(df_5)[j]!=names(df)[i]){\n",
    "            print(ggplot(df_5)+geom_bar(mapping=aes(x=df_5[,i],fill=df_5[,j]),position=\"dodge\")+ labs(x=names(df_5)[i],fill=names(df)[j]))\n",
    "          }\n",
    "        }\n",
    "      }\n",
    "    }\n",
    "  }\n",
    "  print(everybar(df))\n",
    "}\n",
    "}\n",
    "\n",
    "quick.visual(TITANIC,3)"
   ]
  },
  {
   "cell_type": "code",
   "execution_count": null,
   "metadata": {},
   "outputs": [],
   "source": [
    "#### 3. Creates a quick random forest model for a data set."
   ]
  },
  {
   "cell_type": "code",
   "execution_count": null,
   "metadata": {},
   "outputs": [],
   "source": [
    "quick_model <- function(x){\n",
    "library(caret)\n",
    "library(ranger)\n",
    "set.seed(10)\n",
    "model1 <- train(target~.,data = x, method = \"ranger\", \n",
    "               trControl = trainControl(method =\"cv\", number = 7, verboseIter = TRUE))\n",
    "print(model1)\n",
    "}\n",
    "quick_model(TITANIC)"
   ]
  },
  {
   "cell_type": "code",
   "execution_count": null,
   "metadata": {},
   "outputs": [],
   "source": []
  },
  {
   "cell_type": "code",
   "execution_count": null,
   "metadata": {},
   "outputs": [],
   "source": []
  },
  {
   "cell_type": "code",
   "execution_count": null,
   "metadata": {},
   "outputs": [],
   "source": []
  },
  {
   "cell_type": "code",
   "execution_count": null,
   "metadata": {},
   "outputs": [],
   "source": []
  },
  {
   "cell_type": "code",
   "execution_count": null,
   "metadata": {},
   "outputs": [],
   "source": []
  },
  {
   "cell_type": "code",
   "execution_count": null,
   "metadata": {},
   "outputs": [],
   "source": []
  },
  {
   "cell_type": "code",
   "execution_count": null,
   "metadata": {},
   "outputs": [],
   "source": []
  },
  {
   "cell_type": "code",
   "execution_count": null,
   "metadata": {},
   "outputs": [],
   "source": []
  },
  {
   "cell_type": "code",
   "execution_count": null,
   "metadata": {},
   "outputs": [],
   "source": []
  },
  {
   "cell_type": "code",
   "execution_count": null,
   "metadata": {},
   "outputs": [],
   "source": []
  },
  {
   "cell_type": "code",
   "execution_count": null,
   "metadata": {},
   "outputs": [],
   "source": []
  },
  {
   "cell_type": "code",
   "execution_count": null,
   "metadata": {},
   "outputs": [],
   "source": []
  },
  {
   "cell_type": "code",
   "execution_count": null,
   "metadata": {},
   "outputs": [],
   "source": []
  }
 ],
 "metadata": {
  "kernelspec": {
   "display_name": "R",
   "language": "R",
   "name": "ir"
  },
  "language_info": {
   "codemirror_mode": "r",
   "file_extension": ".r",
   "mimetype": "text/x-r-source",
   "name": "R",
   "pygments_lexer": "r",
   "version": "3.5.1"
  }
 },
 "nbformat": 4,
 "nbformat_minor": 2
}
