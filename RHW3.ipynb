{
 "cells": [
  {
   "cell_type": "code",
   "execution_count": null,
   "metadata": {},
   "outputs": [],
   "source": [
    "library(ggplot2)\n",
    "TITANIC = read.csv(\"titanic.csv\")\n",
    "ggplot(data = TITANIC)\n",
    "TITANIC$Survived = factor(TITANIC$Survived)\n",
    "TITANIC$Pclass = factor(TITANIC$Pclass)"
   ]
  },
  {
   "cell_type": "code",
   "execution_count": null,
   "metadata": {},
   "outputs": [],
   "source": [
    "sum(is.na(TITANIC))"
   ]
  },
  {
   "cell_type": "code",
   "execution_count": null,
   "metadata": {},
   "outputs": [],
   "source": [
    "TITANIC$Age[is.na(TITANIC$Age)] = mean(TITANIC$Age, na.rm = TRUE)"
   ]
  },
  {
   "cell_type": "code",
   "execution_count": null,
   "metadata": {},
   "outputs": [],
   "source": [
    "TITANIC$PassengerId = NULL"
   ]
  },
  {
   "cell_type": "code",
   "execution_count": null,
   "metadata": {},
   "outputs": [],
   "source": [
    "mean(TITANIC$Age)"
   ]
  },
  {
   "cell_type": "code",
   "execution_count": null,
   "metadata": {},
   "outputs": [],
   "source": [
    "mean(TITANIC$Age[TITANIC$Sex==2])"
   ]
  },
  {
   "cell_type": "code",
   "execution_count": null,
   "metadata": {},
   "outputs": [],
   "source": [
    "median(TITANIC$Fare[TITANIC$Pclass==1])"
   ]
  },
  {
   "cell_type": "code",
   "execution_count": null,
   "metadata": {},
   "outputs": [],
   "source": [
    "median(TITANIC$Fare[TITANIC$Sex==2 & TITANIC$Pclass!=1])"
   ]
  },
  {
   "cell_type": "code",
   "execution_count": null,
   "metadata": {},
   "outputs": [],
   "source": [
    "median(TITANIC$Age[TITANIC$Sex==2 & TITANIC$Survived == 1 & TITANIC$Pclass!=3])"
   ]
  },
  {
   "cell_type": "code",
   "execution_count": null,
   "metadata": {},
   "outputs": [],
   "source": [
    "TITANIC$Age[(TITANIC$Age <=19) & (TITANIC$Age >= 13)] = \"teen\"\n",
    "TITANIC$Age = as.factor(TITANIC$Age)\n",
    "mean(TITANIC$Fare[TITANIC$Sex == 2 & TITANIC$Age == \"teen\" & TITANIC$Survived==1])"
   ]
  },
  {
   "cell_type": "code",
   "execution_count": null,
   "metadata": {},
   "outputs": [],
   "source": [
    "me_pclass = c(0,0,0)\n",
    "me_pclass[1] = mean(TITANIC$Fare[TITANIC$Sex == 2 & TITANIC$Age == \"teen\" & TITANIC$Survived==1 & TITANIC$Pclass == 1])\n",
    "me_pclass[2] = mean(TITANIC$Fare[TITANIC$Sex == 2 & TITANIC$Age == \"teen\" & TITANIC$Survived==1 & TITANIC$Pclass == 2])\n",
    "me_pclass[3] = mean(TITANIC$Fare[TITANIC$Sex == 2 & TITANIC$Age == \"teen\" & TITANIC$Survived==1 & TITANIC$Pclass == 3])\n",
    "me_pclass"
   ]
  },
  {
   "cell_type": "code",
   "execution_count": null,
   "metadata": {},
   "outputs": [],
   "source": [
    "EXp_ratio0 = ((TITANIC$Fare >= (mean(TITANIC$Fare))) & (TITANIC$Survived == 0))\n",
    "EXp_ratio1 = ((TITANIC$Fare >= (mean(TITANIC$Fare))) & (TITANIC$Survived == 1))\n",
    "sum(EXp_ratio0) / sum(EXp_ratio1)"
   ]
  },
  {
   "cell_type": "code",
   "execution_count": null,
   "metadata": {},
   "outputs": [],
   "source": [
    "TITANIC$sfare = (TITANIC$Fare - mean(TITANIC$Fare))/ sd(TITANIC$Fare)"
   ]
  },
  {
   "cell_type": "code",
   "execution_count": null,
   "metadata": {},
   "outputs": [],
   "source": [
    "TITANIC$Age = as.integer(TITANIC$Age)\n",
    "TITANIC.young <-TITANIC[TITANIC$Age < mean(TITANIC$Age),] \n",
    "ggplot(TITANIC.young) + geom_bar(mapping = aes(x = Sex, fill = Survived), position ='dodge')"
   ]
  },
  {
   "cell_type": "code",
   "execution_count": null,
   "metadata": {},
   "outputs": [],
   "source": [
    "TITANIC.expen <-TITANIC[TITANIC$Fare > mean(TITANIC$Fare),] \n",
    "ggplot(TITANIC.expen) + geom_density(mapping = aes(x = Age, color = Survived))"
   ]
  },
  {
   "cell_type": "code",
   "execution_count": null,
   "metadata": {},
   "outputs": [],
   "source": [
    "ggplot(TITANIC) + geom_density(mapping = aes(x = Embarked))"
   ]
  },
  {
   "cell_type": "code",
   "execution_count": null,
   "metadata": {},
   "outputs": [],
   "source": [
    "TITANIC$cfare[TITANIC$Fare < mean(TITANIC$Fare)] <- \"cheap\"\n",
    "TITANIC$cfare[TITANIC$Fare > mean(TITANIC$Fare)] <- \"expensive\""
   ]
  },
  {
   "cell_type": "code",
   "execution_count": null,
   "metadata": {},
   "outputs": [],
   "source": [
    "TITANIC.expen$cage[TITANIC.expen$Age < 10] <- '0'\n",
    "TITANIC.expen$cage[TITANIC.expen$Age > 10 & TITANIC.expen$Age < 20] <- '1'\n",
    "TITANIC.expen$cage[TITANIC.expen$Age > 20 & TITANIC.expen$Age < 30] <- '2'\n",
    "TITANIC.expen$cage[TITANIC.expen$Age > 30 & TITANIC.expen$Age < 40] <- '3'\n",
    "TITANIC.expen$cage[TITANIC.expen$Age > 40 & TITANIC.expen$Age < 50] <- '4'\n",
    "TITANIC.expen$cage[TITANIC.expen$Age > 50 & TITANIC.expen$Age < 60] <- '5'\n",
    "TITANIC.expen$cage[TITANIC.expen$Age > 60 & TITANIC.expen$Age < 70] <- '6'\n",
    "TITANIC.expen$cage[TITANIC.expen$Age > 70 & TITANIC.expen$Age < 80] <- '7'\n",
    "TITANIC.expen$cage[TITANIC.expen$Age > 80 & TITANIC.expen$Age < 90] <- '8'"
   ]
  },
  {
   "cell_type": "code",
   "execution_count": null,
   "metadata": {},
   "outputs": [],
   "source": [
    "ggplot(TITANIC.expen) + geom_bar(mapping = aes(x = cage, fill = Survived), position = 'dodge')"
   ]
  },
  {
   "cell_type": "code",
   "execution_count": null,
   "metadata": {},
   "outputs": [],
   "source": [
    "ggplot(TITANIC.expen) + geom_bar(mapping = aes(x = cage, fill = Survived), position = 'dodge') + facet_wrap(~TITANIC.expen$Pclass)"
   ]
  }
 ],
 "metadata": {
  "kernelspec": {
   "display_name": "R",
   "language": "R",
   "name": "ir"
  },
  "language_info": {
   "codemirror_mode": "r",
   "file_extension": ".r",
   "mimetype": "text/x-r-source",
   "name": "R",
   "pygments_lexer": "r",
   "version": "3.5.1"
  }
 },
 "nbformat": 4,
 "nbformat_minor": 2
}
