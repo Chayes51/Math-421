{
 "cells": [
  {
   "cell_type": "code",
   "execution_count": null,
   "metadata": {},
   "outputs": [],
   "source": [
    "TITANIC = read.csv(\"titanic.csv\")\n",
    "TITANIC$Survived = factor(TITANIC$Survived)\n",
    "TITANIC$Pclass = factor(TITANIC$Pclass)\n",
    "TITANIC$Name = NULL\n",
    "TITANIC$Ticket = NULL\n",
    "TITANIC$PassengerId = NULL\n",
    "TITANIC$Cabin = NULL\n",
    " missValu <- function(x){\n",
    "     for(i in 1 :ncol(x)){\n",
    "     print(names(x)[i])\n",
    "     print(sum(is.na(x[,i])))\n",
    "     }\n",
    "      \n",
    " }\n",
    "\n",
    "missValu(TITANIC)"
   ]
  },
  {
   "cell_type": "code",
   "execution_count": null,
   "metadata": {},
   "outputs": [],
   "source": [
    "### 2. Function print the name of the column with NA's"
   ]
  },
  {
   "cell_type": "code",
   "execution_count": null,
   "metadata": {},
   "outputs": [],
   "source": [
    " missdata <- function(x){\n",
    "     for(i in 1 :ncol(x)){\n",
    "     if(sum(is.na(x[,i]))){\n",
    "      print(names(x)[i]) \n",
    "     } \n",
    "     }\n",
    "      \n",
    " }\n",
    "missdata(TITANIC)"
   ]
  },
  {
   "cell_type": "code",
   "execution_count": null,
   "metadata": {},
   "outputs": [],
   "source": [
    "### 3. Prints the name of the column with NA's and how many it holds"
   ]
  },
  {
   "cell_type": "code",
   "execution_count": null,
   "metadata": {},
   "outputs": [],
   "source": [
    " missValu2 <- function(x){\n",
    "     for(i in 1 :ncol(x)){\n",
    "    if (sum(is.na(x[,i])) > 0){\n",
    "     print(names(x)[i])\n",
    "     print(sum(is.na(x[,i])))\n",
    "     }\n",
    "     }\n",
    "      \n",
    " }\n",
    "missValu2(TITANIC)"
   ]
  },
  {
   "cell_type": "code",
   "execution_count": null,
   "metadata": {},
   "outputs": [],
   "source": [
    "### 4. Function replaces NA with the mean of the column and non numeric with the most common variable in that column."
   ]
  },
  {
   "cell_type": "code",
   "execution_count": null,
   "metadata": {},
   "outputs": [],
   "source": [
    " fixmiss <- function(x){\n",
    "     for(i in 1 :ncol(x)){\n",
    "    if ((is.numeric(x[,i])) == TRUE ){\n",
    "      x[,i][is.na(x[,i])] = mean(x[,i], na.rm = TRUE)\n",
    "    } else{\n",
    "       levels=unique(x[,i])\n",
    "      x[,i][is.na(x[,i])]=levels[which.max(tabulate(match(x[,i], levels)))]\n",
    "    }\n",
    "       print(names(x)[i]) \n",
    "       print(sum(is.na(x[,i])))\n",
    "     }\n",
    "      \n",
    " }\n",
    "fixmiss(TITANIC)"
   ]
  },
  {
   "cell_type": "code",
   "execution_count": null,
   "metadata": {},
   "outputs": [],
   "source": [
    "### 5. Function divides the data step by numeric and non numeric"
   ]
  },
  {
   "cell_type": "code",
   "execution_count": null,
   "metadata": {},
   "outputs": [],
   "source": [
    "numvcat <- function(x){\n",
    "   library(dplyr)\n",
    "   library(tidyverse)\n",
    "   num <- select_if(x, is.numeric)\n",
    "   cat <- select_if(x,negate(is.numeric))\n",
    "   str(num) \n",
    "   str(cat)\n",
    "  }\n",
    "      \n",
    "numvcat(TITANIC)"
   ]
  },
  {
   "cell_type": "code",
   "execution_count": null,
   "metadata": {},
   "outputs": [],
   "source": [
    "### 6. Creates all density plots for a data set"
   ]
  },
  {
   "cell_type": "code",
   "execution_count": null,
   "metadata": {},
   "outputs": [],
   "source": [
    "library(ggplot2)\n",
    "density = function(z) {\n",
    "  for(i in 1 :ncol(z)) {\n",
    "    if((is.numeric(z[,i])) == TRUE ){\n",
    "  print(ggplot(z) + geom_density(mapping = aes(x = z[,i])))\n",
    " }\n",
    "}\n",
    "}\n",
    "density(TITANIC)"
   ]
  },
  {
   "cell_type": "code",
   "execution_count": null,
   "metadata": {},
   "outputs": [],
   "source": [
    "### 7. creates all the single variable bar charts for a data set"
   ]
  },
  {
   "cell_type": "code",
   "execution_count": null,
   "metadata": {},
   "outputs": [],
   "source": [
    "barc = function(z) {\n",
    "  for(i in 1 :ncol(z)) {\n",
    "    if((is.numeric(z[,i])) == TRUE ){\n",
    "  print(ggplot(z) + geom_bar(mapping = aes(x = z[,i])))\n",
    " }\n",
    "}\n",
    "}\n",
    "barc(TITANIC)"
   ]
  },
  {
   "cell_type": "code",
   "execution_count": null,
   "metadata": {},
   "outputs": [],
   "source": [
    "### 8. Creates all bar charts and prints out when variable is not categorical"
   ]
  },
  {
   "cell_type": "code",
   "execution_count": null,
   "metadata": {},
   "outputs": [],
   "source": [
    "bar2=function(x,i,j){\n",
    "    if(is.numeric(x[,i]) | is.numeric(x[,j])){\n",
    "      print(\"One or more of the columns are not categorical\")\n",
    "    }else {\n",
    "      print(ggplot(data=x)+geom_bar(mapping=aes(x=x[,i], fill=x[,j]),position = \"dodge\")+labs(x=names(x)[i],fill=names(x)[j]))\n",
    "    }\n",
    "  }\n",
    "\n",
    "bar2(TITANIC,2,3)\n",
    "bar2(TITANIC,4,5) "
   ]
  },
  {
   "cell_type": "code",
   "execution_count": null,
   "metadata": {},
   "outputs": [],
   "source": [
    "### 9. Creates all possible scatter plots and prints out if coumn is not numeric"
   ]
  },
  {
   "cell_type": "code",
   "execution_count": null,
   "metadata": {},
   "outputs": [],
   "source": [
    "scater=function(x,i,j){\n",
    "    if(!is.numeric(x[,i]) | !is.numeric(x[,j])){\n",
    "      print(\"One or more of the columns are not numeric\")\n",
    "    }else {\n",
    "      print(ggplot(data=x)+geom_point(mapping=aes(x=x[,i], y=x[,j]))+labs(x=names(x)[i],y=names(x)[j]))\n",
    "    }\n",
    "}\n",
    "\n",
    "scater(TITANIC,1,2)\n",
    "scater(TITANIC,3,5) "
   ]
  },
  {
   "cell_type": "code",
   "execution_count": null,
   "metadata": {},
   "outputs": [],
   "source": [
    "### 10. Creates all possible densisity plots and prints out if it can dont create a plot"
   ]
  },
  {
   "cell_type": "code",
   "execution_count": null,
   "metadata": {},
   "outputs": [],
   "source": [
    "Den=function(x,i,j){\n",
    "    if(!is.numeric(x[,i])){\n",
    "      print(\"The input variable is not numeric\")\n",
    "    }else if(is.numeric(x[,j])){\n",
    "      print(\"The partitioning variable is not categorical\")\n",
    "    }else{\n",
    "      print(ggplot(data=x)+geom_density(mapping = aes(x=x[,1],color=x[,j]))+labs(x=names(x)[i],color=names(x)[j]))\n",
    "    }\n",
    "}\n",
    "\n",
    "Den(TITANIC,1,3)\n",
    "Den(TITANIC,6,5) \n",
    "Den(TITANIC,4,6)"
   ]
  },
  {
   "cell_type": "code",
   "execution_count": null,
   "metadata": {},
   "outputs": [],
   "source": [
    "### 11. Prints every possible bar chart for a data set."
   ]
  },
  {
   "cell_type": "code",
   "execution_count": null,
   "metadata": {},
   "outputs": [],
   "source": [
    "everybar=function(x){\n",
    "    for (i in 1:ncol(x)){\n",
    "      if (!is.numeric(x[,i])){\n",
    "        for(j in 1:ncol(x)){\n",
    "          if (!is.numeric(x[,j]) & names(x)[j]!=names(x)[i]){\n",
    "            print(ggplot(data=x)+geom_bar(mapping=aes(x=x[,i],fill=x[,j]),position=\"dodge\")+ labs(x=names(x)[i],fill=names(x)[j]))\n",
    "          }\n",
    "        }\n",
    "      }\n",
    "    }\n",
    "}\n",
    "everybar(TITANIC)"
   ]
  },
  {
   "cell_type": "code",
   "execution_count": null,
   "metadata": {},
   "outputs": [],
   "source": [
    "### 12. prints every possible bar and density plot for a data set."
   ]
  },
  {
   "cell_type": "code",
   "execution_count": null,
   "metadata": {},
   "outputs": [],
   "source": [
    "visual=function(x){\n",
    "  for (i in 1:ncol(x)){\n",
    "      if (!is.numeric(x[,i])){\n",
    "        for(j in 1:ncol(x)){\n",
    "          if (!is.numeric(x[,j]) & names(x)[j]!=names(x)[i]){\n",
    "            print(ggplot(data=x)+geom_bar(mapping=aes(x=x[,i],fill=x[,j]),position=\"dodge\")+ labs(x=names(x)[i],fill=names(x)[j]))\n",
    "          }\n",
    "        }\n",
    "      }else{\n",
    "        for(j in 1:ncol(x)){\n",
    "          if (!is.numeric(x[,j])){\n",
    "            print(ggplot(data=x)+geom_density(mapping=aes(x=x[,i],color=x[,j]))+labs(x=names(x)[i],color=names(x)[j]))\n",
    "          }\n",
    "        }\n",
    "      }\n",
    "  }\n",
    "}\n",
    "visual(TITANIC)"
   ]
  },
  {
   "cell_type": "code",
   "execution_count": null,
   "metadata": {},
   "outputs": [],
   "source": []
  },
  {
   "cell_type": "code",
   "execution_count": null,
   "metadata": {},
   "outputs": [],
   "source": []
  },
  {
   "cell_type": "code",
   "execution_count": null,
   "metadata": {},
   "outputs": [],
   "source": []
  }
 ],
 "metadata": {
  "kernelspec": {
   "display_name": "R",
   "language": "R",
   "name": "ir"
  },
  "language_info": {
   "codemirror_mode": "r",
   "file_extension": ".r",
   "mimetype": "text/x-r-source",
   "name": "R",
   "pygments_lexer": "r",
   "version": "3.5.1"
  }
 },
 "nbformat": 4,
 "nbformat_minor": 2
}
